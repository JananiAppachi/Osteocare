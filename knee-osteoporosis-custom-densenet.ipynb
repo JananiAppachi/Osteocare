{
 "cells": [
  {
   "cell_type": "code",
   "execution_count": null,
   "metadata": {
    "_cell_guid": "b1076dfc-b9ad-4769-8c92-a6c4dae69d19",
    "_uuid": "8f2839f25d086af736a60e9eeb907d3b93b6e0e5",
    "execution": {
     "iopub.execute_input": "2024-05-31T03:42:37.604453Z",
     "iopub.status.busy": "2024-05-31T03:42:37.604029Z",
     "iopub.status.idle": "2024-05-31T03:42:37.65228Z",
     "shell.execute_reply": "2024-05-31T03:42:37.651499Z",
     "shell.execute_reply.started": "2024-05-31T03:42:37.604423Z"
    },
    "trusted": true
   },
   "outputs": [],
   "source": [
    "import os\n",
    "for dirname, _, filenames in os.walk('/kaggle/input'):\n",
    "    for filename in filenames:\n",
    "        os.path.join(dirname, filename)"
   ]
  },
  {
   "cell_type": "code",
   "execution_count": null,
   "metadata": {
    "execution": {
     "iopub.execute_input": "2024-05-31T03:42:37.654909Z",
     "iopub.status.busy": "2024-05-31T03:42:37.6542Z",
     "iopub.status.idle": "2024-05-31T03:42:37.668191Z",
     "shell.execute_reply": "2024-05-31T03:42:37.667073Z",
     "shell.execute_reply.started": "2024-05-31T03:42:37.654879Z"
    },
    "trusted": true
   },
   "outputs": [],
   "source": [
    "import pandas as pd\n",
    "import numpy as np\n",
    "import keras\n",
    "import warnings\n",
    "warnings.filterwarnings(action=\"ignore\")\n",
    "import matplotlib.pyplot as plt\n",
    "%matplotlib inline\n",
    "\n",
    "from keras.models import Sequential\n",
    "from keras.layers import Dense, Dropout, Flatten\n",
    "from keras.layers import Conv2D, MaxPooling2D\n",
    "from keras import backend as K\n",
    "\n",
    "from sklearn.preprocessing import StandardScaler\n",
    "from sklearn.model_selection import train_test_split\n",
    "from sklearn.metrics import classification_report\n",
    "import tensorflow as tf\n",
    "from tensorflow import keras\n",
    "from tensorflow.keras.models import Sequential\n",
    "from tensorflow.keras.layers import Conv2D, MaxPooling2D, Flatten, Dense\n",
    "from tensorflow.keras.applications.vgg19 import VGG19\n",
    "from tensorflow.keras.optimizers import Adam\n",
    "from tensorflow.keras.losses import SparseCategoricalCrossentropy\n",
    "from keras.preprocessing.image import ImageDataGenerator\n",
    "from tensorflow.keras.callbacks import TensorBoard,EarlyStopping\n",
    "\n",
    "import sklearn.metrics as metrics\n",
    "from keras.callbacks import LearningRateScheduler\n",
    "from keras.preprocessing.image import ImageDataGenerator\n",
    "annealer = LearningRateScheduler(lambda x: 1e-3 * 0.95 ** x, verbose=0)"
   ]
  },
  {
   "cell_type": "code",
   "execution_count": null,
   "metadata": {
    "execution": {
     "iopub.execute_input": "2024-05-31T03:42:37.670706Z",
     "iopub.status.busy": "2024-05-31T03:42:37.67036Z",
     "iopub.status.idle": "2024-05-31T03:42:37.699672Z",
     "shell.execute_reply": "2024-05-31T03:42:37.698705Z",
     "shell.execute_reply.started": "2024-05-31T03:42:37.670679Z"
    },
    "trusted": true
   },
   "outputs": [],
   "source": [
    "import os\n",
    "import pandas as pd\n",
    "\n",
    "healthy_dirs = [\n",
    "    r'/kaggle/input/osteoporosis-database/Osteoporosis Knee X-ray/normal',\n",
    "    r'/kaggle/input/osteoporosis-knee-xray-dataset/normal/normal',\n",
    "    r'/kaggle/input/osteoporosis-knee-dataset-preprocessed128x256/Osteoporosis Knee Dataset/Normal',\n",
    "    r'/kaggle/input/osteoporosis/osteoporosis/normal'\n",
    "]\n",
    "\n",
    "osteoporosis_dirs = [\n",
    "    r'/kaggle/input/osteoporosis-database/Osteoporosis Knee X-ray/osteoporosis',\n",
    "    r'/kaggle/input/osteoporosis-knee-xray-dataset/osteoporosis/osteoporosis',\n",
    "    r'/kaggle/input/osteoporosis-knee-dataset-preprocessed128x256/Osteoporosis Knee Dataset/Osteoporosis',\n",
    "    r'/kaggle/input/osteoporosis/osteoporosis/osteoporosis'\n",
    "]\n",
    "\n",
    "filepaths = []\n",
    "labels = []\n",
    "dict_lists = [healthy_dirs, osteoporosis_dirs]\n",
    "class_labels = ['Healthy', 'Osteoporosis']\n",
    "\n",
    "# Gabungkan path lengkap (direktori & filename) dengan labelnya\n",
    "for i, dir_list in enumerate(dict_lists):\n",
    "    for j in dir_list:\n",
    "        flist = os.listdir(j)\n",
    "        for f in flist:\n",
    "            fpath = os.path.join(j, f)\n",
    "            filepaths.append(fpath)\n",
    "            labels.append(class_labels[i])\n",
    "\n",
    "Fseries = pd.Series(filepaths, name=\"filepaths\")\n",
    "Lseries = pd.Series(labels, name=\"labels\")\n",
    "knee_osteoporosis_data = pd.concat([Fseries, Lseries], axis=1)\n",
    "# .head() -> print 5 baris pertama dari dataFrame\n",
    "print(knee_osteoporosis_data.head())\n",
    "print(knee_osteoporosis_data[\"labels\"].value_counts())"
   ]
  },
  {
   "cell_type": "code",
   "execution_count": null,
   "metadata": {
    "execution": {
     "iopub.execute_input": "2024-05-31T03:42:37.701237Z",
     "iopub.status.busy": "2024-05-31T03:42:37.700896Z",
     "iopub.status.idle": "2024-05-31T03:42:37.707462Z",
     "shell.execute_reply": "2024-05-31T03:42:37.70645Z",
     "shell.execute_reply.started": "2024-05-31T03:42:37.70119Z"
    },
    "trusted": true
   },
   "outputs": [],
   "source": [
    "knee_osteoporosis_data.shape"
   ]
  },
  {
   "cell_type": "code",
   "execution_count": null,
   "metadata": {
    "execution": {
     "iopub.execute_input": "2024-05-31T03:42:37.710023Z",
     "iopub.status.busy": "2024-05-31T03:42:37.709747Z",
     "iopub.status.idle": "2024-05-31T03:42:37.718048Z",
     "shell.execute_reply": "2024-05-31T03:42:37.71726Z",
     "shell.execute_reply.started": "2024-05-31T03:42:37.709999Z"
    },
    "trusted": true
   },
   "outputs": [],
   "source": [
    "# 80% train data, 20% remaining data dari knee osteoporosis data  \n",
    "# Random state -> seed yg digunakan untuk mengatur bagaimana data diacak\n",
    "# sehingga menghasilkan output yg konsisten yaitu pembagian data yang selalu sama \n",
    "\n",
    "train_data, remaining_data = train_test_split(knee_osteoporosis_data, test_size=0.2, random_state=42)\n",
    "test_data, val_data = train_test_split(remaining_data, test_size=0.5, random_state=42)"
   ]
  },
  {
   "cell_type": "code",
   "execution_count": null,
   "metadata": {
    "execution": {
     "iopub.execute_input": "2024-05-31T03:42:37.71945Z",
     "iopub.status.busy": "2024-05-31T03:42:37.719108Z",
     "iopub.status.idle": "2024-05-31T03:42:37.726269Z",
     "shell.execute_reply": "2024-05-31T03:42:37.72528Z",
     "shell.execute_reply.started": "2024-05-31T03:42:37.719424Z"
    },
    "trusted": true
   },
   "outputs": [],
   "source": [
    "print(train_data.shape)\n",
    "print(test_data.shape)\n",
    "print(val_data.shape)"
   ]
  },
  {
   "cell_type": "code",
   "execution_count": null,
   "metadata": {
    "execution": {
     "iopub.execute_input": "2024-05-31T03:42:37.727942Z",
     "iopub.status.busy": "2024-05-31T03:42:37.727605Z",
     "iopub.status.idle": "2024-05-31T03:42:39.341888Z",
     "shell.execute_reply": "2024-05-31T03:42:39.341095Z",
     "shell.execute_reply.started": "2024-05-31T03:42:37.727916Z"
    },
    "trusted": true
   },
   "outputs": [],
   "source": [
    "image_gen = ImageDataGenerator(preprocessing_function= tf.keras.applications.mobilenet_v2.preprocess_input)\n",
    "train = image_gen.flow_from_dataframe(dataframe= train_data,x_col=\"filepaths\",y_col=\"labels\",\n",
    "                                      target_size=(244,244),\n",
    "                                      color_mode='rgb',\n",
    "                                      class_mode=\"categorical\", #used for Sequential Model\n",
    "                                      batch_size=4,\n",
    "                                      shuffle=False            #do not shuffle data\n",
    "                                     )\n",
    "test = image_gen.flow_from_dataframe(dataframe= test_data,x_col=\"filepaths\", y_col=\"labels\",\n",
    "                                     target_size=(244,244),\n",
    "                                     color_mode='rgb',\n",
    "                                     class_mode=\"categorical\",\n",
    "                                     batch_size=4,\n",
    "                                     shuffle= False\n",
    "                                    )\n",
    "val = image_gen.flow_from_dataframe(dataframe= val_data,x_col=\"filepaths\", y_col=\"labels\",\n",
    "                                    target_size=(244,244),\n",
    "                                    color_mode= 'rgb',\n",
    "                                    class_mode=\"categorical\",\n",
    "                                    batch_size=4,\n",
    "                                    shuffle=False\n",
    "                                   )"
   ]
  },
  {
   "cell_type": "code",
   "execution_count": null,
   "metadata": {
    "execution": {
     "iopub.execute_input": "2024-05-31T03:42:39.343432Z",
     "iopub.status.busy": "2024-05-31T03:42:39.34306Z",
     "iopub.status.idle": "2024-05-31T03:42:39.349016Z",
     "shell.execute_reply": "2024-05-31T03:42:39.348116Z",
     "shell.execute_reply.started": "2024-05-31T03:42:39.343396Z"
    },
    "trusted": true
   },
   "outputs": [],
   "source": [
    "# class_indices -> atribut dari objek flow_from_dataframe dari ImageDataGenerator yang digunakan untuk memuat data gambar. Atribut ini mengembalikan sebuah dictionary yang berisi pasangan kunci-nilai, \n",
    "# di mana kunci adalah nama kelas dan nilai adalah indeks yang sesuai untuk kelas tersebut.\n",
    "classes=list(train.class_indices.keys())\n",
    "print (classes)"
   ]
  },
  {
   "cell_type": "code",
   "execution_count": null,
   "metadata": {
    "execution": {
     "iopub.execute_input": "2024-05-31T03:42:39.352128Z",
     "iopub.status.busy": "2024-05-31T03:42:39.351845Z",
     "iopub.status.idle": "2024-05-31T03:42:39.360151Z",
     "shell.execute_reply": "2024-05-31T03:42:39.359273Z",
     "shell.execute_reply.started": "2024-05-31T03:42:39.352103Z"
    },
    "trusted": true
   },
   "outputs": [],
   "source": [
    "def show_knee_images(image_gen):\n",
    "    test_dict = test.class_indices\n",
    "    classes = list(test_dict.keys())\n",
    "    images, labels=next(image_gen) # get a sample batch from the generator\n",
    "    plt.figure(figsize=(20,20))\n",
    "      # Menentukan jumlah maksimal gambar yang akan ditampilkan\n",
    "    length = len(labels)\n",
    "    if length<25:\n",
    "        r=length\n",
    "    else:\n",
    "        r=25\n",
    "    for i in range(r):\n",
    "        plt.subplot(5,5,i+1)\n",
    "        image=(images[i]+1)/2 #scale images between 0 and 1\n",
    "        plt.imshow(image)\n",
    "        # Menambahkan judul dengan nama kelas\n",
    "        index=np.argmax(labels[i]) # mengembalikan indeks dari nilai probabilitas terbesar, yang mewakili kelas yang diprediksi.\n",
    "        class_name=classes[index] # Mendapatkan nama kelas berdasarkan indeks\n",
    "        plt.title(class_name, color=\"green\",fontsize=16)\n",
    "        plt.axis('off')\n",
    "    plt.show()"
   ]
  },
  {
   "cell_type": "code",
   "execution_count": null,
   "metadata": {
    "execution": {
     "iopub.execute_input": "2024-05-31T03:42:39.3617Z",
     "iopub.status.busy": "2024-05-31T03:42:39.361418Z",
     "iopub.status.idle": "2024-05-31T03:42:39.860174Z",
     "shell.execute_reply": "2024-05-31T03:42:39.859167Z",
     "shell.execute_reply.started": "2024-05-31T03:42:39.361675Z"
    },
    "trusted": true
   },
   "outputs": [],
   "source": [
    "show_knee_images(train)"
   ]
  },
  {
   "cell_type": "code",
   "execution_count": null,
   "metadata": {
    "execution": {
     "iopub.execute_input": "2024-05-31T03:42:39.862829Z",
     "iopub.status.busy": "2024-05-31T03:42:39.862019Z",
     "iopub.status.idle": "2024-05-31T03:42:44.171285Z",
     "shell.execute_reply": "2024-05-31T03:42:44.170275Z",
     "shell.execute_reply.started": "2024-05-31T03:42:39.862788Z"
    },
    "trusted": true
   },
   "outputs": [],
   "source": [
    "from keras.layers import Conv2D, MaxPooling2D, Flatten, Dense, Input, BatchNormalization\n",
    "from keras.models import Model\n",
    "from keras.applications import DenseNet121\n",
    "import tensorflow as tf\n",
    "\n",
    "densenet121_model = DenseNet121(weights='imagenet', include_top=False, input_shape=(224, 224, 3))\n",
    "\n",
    "x = densenet121_model.output\n",
    "\n",
    "# Add your custom layers according to your specified architecture\n",
    "x = Conv2D(64, (3, 3), activation=\"relu\", padding=\"same\")(x)\n",
    "x = Conv2D(64, (3, 3), activation=\"relu\", padding=\"same\")(x)\n",
    "x = MaxPooling2D((2, 2), padding=\"same\")(x)\n",
    "\n",
    "x = Conv2D(128, (3, 3), activation=\"relu\", padding=\"same\")(x)\n",
    "x = Conv2D(128, (3, 3), activation=\"relu\", padding=\"same\")(x)\n",
    "x = MaxPooling2D((2, 2), padding=\"same\")(x)\n",
    "\n",
    "x = Conv2D(256, (3, 3), activation=\"relu\", padding=\"same\")(x)\n",
    "x = Conv2D(256, (3, 3), activation=\"relu\", padding=\"same\")(x)\n",
    "x = Conv2D(256, (3, 3), activation=\"relu\", padding=\"same\")(x)\n",
    "x = MaxPooling2D((2, 2), padding=\"same\")(x)\n",
    "\n",
    "x = Conv2D(512, (3, 3), activation=\"relu\", padding=\"same\")(x)\n",
    "x = Conv2D(512, (3, 3), activation=\"relu\", padding=\"same\")(x)\n",
    "x = Conv2D(512, (3, 3), activation=\"relu\", padding=\"same\")(x)\n",
    "x = MaxPooling2D((2, 2), padding=\"same\")(x)\n",
    "\n",
    "x = Conv2D(512, (3, 3), activation=\"relu\", padding=\"same\")(x)\n",
    "x = Conv2D(512, (3, 3), activation=\"relu\", padding=\"same\")(x)\n",
    "x = Conv2D(512, (3, 3), activation=\"relu\", padding=\"same\")(x)\n",
    "x = MaxPooling2D((2, 2), padding=\"same\")(x)\n",
    "\n",
    "x = Flatten()(x)\n",
    "x = Dense(4096, activation=\"relu\")(x)\n",
    "x = Dropout(0.5)(x) \n",
    "x = Dense(4096, activation=\"relu\")(x)\n",
    "x = Dropout(0.5)(x) \n",
    "x = Dense(4096, activation=\"relu\")(x)\n",
    "\n",
    "output = Dense(2, activation=\"sigmoid\")(x)\n",
    "\n",
    "# Create the custom model\n",
    "model = Model(inputs=densenet121_model.input, outputs=output)\n",
    "\n",
    "# Compile the model\n",
    "optimizer = keras.optimizers.Adam(learning_rate=0.00001)\n",
    "model.compile(\n",
    "    loss='categorical_crossentropy',\n",
    "    optimizer=optimizer,\n",
    "    metrics=['accuracy']\n",
    ")\n",
    "\n",
    "model.summary()\n"
   ]
  },
  {
   "cell_type": "code",
   "execution_count": null,
   "metadata": {
    "execution": {
     "iopub.execute_input": "2024-05-31T03:42:44.172953Z",
     "iopub.status.busy": "2024-05-31T03:42:44.172641Z",
     "iopub.status.idle": "2024-05-31T03:46:22.845059Z",
     "shell.execute_reply": "2024-05-31T03:46:22.844106Z",
     "shell.execute_reply.started": "2024-05-31T03:42:44.172927Z"
    },
    "trusted": true
   },
   "outputs": [],
   "source": [
    "history = model.fit(train, epochs=5, validation_data=val, verbose=1)"
   ]
  },
  {
   "cell_type": "code",
   "execution_count": null,
   "metadata": {
    "execution": {
     "iopub.execute_input": "2024-05-31T03:46:22.847385Z",
     "iopub.status.busy": "2024-05-31T03:46:22.846663Z",
     "iopub.status.idle": "2024-05-31T03:48:50.837895Z",
     "shell.execute_reply": "2024-05-31T03:48:50.837117Z",
     "shell.execute_reply.started": "2024-05-31T03:46:22.84735Z"
    },
    "trusted": true
   },
   "outputs": [],
   "source": [
    "history1 = model.fit(train, epochs=5, validation_data=val, verbose=1)"
   ]
  },
  {
   "cell_type": "code",
   "execution_count": null,
   "metadata": {
    "execution": {
     "iopub.execute_input": "2024-05-31T03:48:50.839441Z",
     "iopub.status.busy": "2024-05-31T03:48:50.839124Z",
     "iopub.status.idle": "2024-05-31T03:48:53.079691Z",
     "shell.execute_reply": "2024-05-31T03:48:53.078792Z",
     "shell.execute_reply.started": "2024-05-31T03:48:50.839417Z"
    },
    "trusted": true
   },
   "outputs": [],
   "source": [
    "model.evaluate(test, verbose=1)"
   ]
  },
  {
   "cell_type": "code",
   "execution_count": null,
   "metadata": {
    "execution": {
     "iopub.execute_input": "2024-05-31T03:48:53.081458Z",
     "iopub.status.busy": "2024-05-31T03:48:53.081079Z",
     "iopub.status.idle": "2024-05-31T03:51:20.865085Z",
     "shell.execute_reply": "2024-05-31T03:51:20.864337Z",
     "shell.execute_reply.started": "2024-05-31T03:48:53.081425Z"
    },
    "trusted": true
   },
   "outputs": [],
   "source": [
    "history2 = model.fit(train, epochs=5, validation_data=val, verbose=1)"
   ]
  },
  {
   "cell_type": "code",
   "execution_count": null,
   "metadata": {
    "execution": {
     "iopub.execute_input": "2024-05-31T03:51:20.8673Z",
     "iopub.status.busy": "2024-05-31T03:51:20.86655Z",
     "iopub.status.idle": "2024-05-31T03:51:23.121733Z",
     "shell.execute_reply": "2024-05-31T03:51:23.120912Z",
     "shell.execute_reply.started": "2024-05-31T03:51:20.867263Z"
    },
    "trusted": true
   },
   "outputs": [],
   "source": [
    "model.evaluate(test, verbose=1)"
   ]
  },
  {
   "cell_type": "code",
   "execution_count": null,
   "metadata": {
    "execution": {
     "iopub.execute_input": "2024-05-31T03:51:23.123155Z",
     "iopub.status.busy": "2024-05-31T03:51:23.122869Z",
     "iopub.status.idle": "2024-05-31T03:53:49.858591Z",
     "shell.execute_reply": "2024-05-31T03:53:49.857572Z",
     "shell.execute_reply.started": "2024-05-31T03:51:23.123131Z"
    },
    "trusted": true
   },
   "outputs": [],
   "source": [
    "history3 = model.fit(train, epochs=5, validation_data=val, verbose=1)"
   ]
  },
  {
   "cell_type": "code",
   "execution_count": null,
   "metadata": {
    "execution": {
     "iopub.execute_input": "2024-05-31T03:53:49.863365Z",
     "iopub.status.busy": "2024-05-31T03:53:49.862948Z",
     "iopub.status.idle": "2024-05-31T03:53:52.093965Z",
     "shell.execute_reply": "2024-05-31T03:53:52.093207Z",
     "shell.execute_reply.started": "2024-05-31T03:53:49.863336Z"
    },
    "trusted": true
   },
   "outputs": [],
   "source": [
    "model.evaluate(test, verbose=1)"
   ]
  },
  {
   "cell_type": "code",
   "execution_count": null,
   "metadata": {
    "execution": {
     "iopub.execute_input": "2024-05-31T03:53:52.095951Z",
     "iopub.status.busy": "2024-05-31T03:53:52.095265Z",
     "iopub.status.idle": "2024-05-31T03:53:56.188175Z",
     "shell.execute_reply": "2024-05-31T03:53:56.187264Z",
     "shell.execute_reply.started": "2024-05-31T03:53:52.095915Z"
    },
    "trusted": true
   },
   "outputs": [],
   "source": [
    "pred = model.predict(test)\n",
    "pred = np.argmax(pred, axis=1) #pick class with highest  probability\n",
    "\n",
    "labels = (train.class_indices)\n",
    "labels = dict((v,k) for k,v in labels.items())\n",
    "pred2 = [labels[k] for k in pred]"
   ]
  },
  {
   "cell_type": "code",
   "execution_count": null,
   "metadata": {
    "execution": {
     "iopub.execute_input": "2024-05-31T03:53:56.189766Z",
     "iopub.status.busy": "2024-05-31T03:53:56.18948Z",
     "iopub.status.idle": "2024-05-31T03:53:56.220655Z",
     "shell.execute_reply": "2024-05-31T03:53:56.219786Z",
     "shell.execute_reply.started": "2024-05-31T03:53:56.189741Z"
    },
    "trusted": true
   },
   "outputs": [],
   "source": [
    "from sklearn.metrics import confusion_matrix, accuracy_score, precision_score, f1_score, recall_score\n",
    "\n",
    "y_test = test_data.labels # set y_test to the expected output\n",
    "print(classification_report(y_test, pred2, digits=5))\n",
    "print(\"Accuracy of the Model: {:.5f}\".format(accuracy_score(y_test, pred2)))\n",
    "precision = precision_score(y_test, pred2, average='weighted')\n",
    "print(\"Precision of the Model: {:.5f}\".format(precision))\n",
    "recall = recall_score(y_test, pred2, average='weighted')\n",
    "print(\"Recall Score of the Model: {:.5f}\".format(recall))\n",
    "f1 = f1_score(y_test, pred2, average='weighted')\n",
    "print(\"f1 Score of the Model: {:.5f}\".format(f1))"
   ]
  },
  {
   "cell_type": "code",
   "execution_count": null,
   "metadata": {
    "execution": {
     "iopub.execute_input": "2024-05-31T03:53:56.222063Z",
     "iopub.status.busy": "2024-05-31T03:53:56.221795Z",
     "iopub.status.idle": "2024-05-31T03:53:56.453446Z",
     "shell.execute_reply": "2024-05-31T03:53:56.45246Z",
     "shell.execute_reply.started": "2024-05-31T03:53:56.222039Z"
    },
    "trusted": true
   },
   "outputs": [],
   "source": [
    "import matplotlib.pyplot as plt\n",
    "import seaborn as sns\n",
    "from sklearn.metrics import confusion_matrix\n",
    "\n",
    "class_labels = ['Healthy','Osteoporosis']\n",
    "\n",
    "cm = confusion_matrix(y_test, pred2)\n",
    "\n",
    "plt.figure(figsize=(10, 5))\n",
    "sns.heatmap(cm, annot=True, fmt='g', vmin=0, cmap='Blues')\n",
    "\n",
    "plt.xticks(ticks=[0.5, 1.5], labels=class_labels)\n",
    "plt.yticks(ticks=[0.5, 1.5], labels=class_labels)\n",
    "plt.xlabel(\"Predicted\")\n",
    "plt.ylabel(\"Actual\")\n",
    "\n",
    "plt.title(\"Confusion Matrix\")\n",
    "\n",
    "plt.show()"
   ]
  },
  {
   "cell_type": "code",
   "execution_count": null,
   "metadata": {
    "execution": {
     "iopub.execute_input": "2024-05-31T03:53:56.455038Z",
     "iopub.status.busy": "2024-05-31T03:53:56.454757Z",
     "iopub.status.idle": "2024-05-31T03:53:56.694423Z",
     "shell.execute_reply": "2024-05-31T03:53:56.69358Z",
     "shell.execute_reply.started": "2024-05-31T03:53:56.455012Z"
    },
    "trusted": true
   },
   "outputs": [],
   "source": [
    "plt.plot(history.history['accuracy'] + history1.history['accuracy'] + history2.history['accuracy'] + history3.history['accuracy'])\n",
    "plt.plot(history.history['val_accuracy'] + history1.history['val_accuracy'] + history2.history['val_accuracy'] + history3.history['val_accuracy'])\n",
    "plt.title('model accuracy')\n",
    "plt.ylabel('accuracy')\n",
    "plt.xlabel('epoch')\n",
    "plt.legend(['train', 'val'], loc='upper left')\n",
    "plt.show()"
   ]
  },
  {
   "cell_type": "code",
   "execution_count": null,
   "metadata": {
    "execution": {
     "iopub.execute_input": "2024-05-31T03:53:56.695926Z",
     "iopub.status.busy": "2024-05-31T03:53:56.695652Z",
     "iopub.status.idle": "2024-05-31T03:53:56.935116Z",
     "shell.execute_reply": "2024-05-31T03:53:56.934256Z",
     "shell.execute_reply.started": "2024-05-31T03:53:56.695901Z"
    },
    "trusted": true
   },
   "outputs": [],
   "source": [
    "plt.plot(history.history['loss'] + history1.history['loss'] + history2.history['loss'] + history3.history['loss'])\n",
    "plt.plot(history.history['val_loss'] + history1.history['val_loss'] + history2.history['val_loss'] + history3.history['val_loss'])\n",
    "plt.title('model loss')\n",
    "plt.ylabel('loss')\n",
    "plt.xlabel('epoch')\n",
    "plt.legend(['train', 'val'], loc='upper left')\n",
    "plt.show()"
   ]
  }
 ],
 "metadata": {
  "kaggle": {
   "accelerator": "gpu",
   "dataSources": [
    {
     "datasetId": 1593420,
     "sourceId": 2656457,
     "sourceType": "datasetVersion"
    },
    {
     "datasetId": 2030759,
     "sourceId": 3367257,
     "sourceType": "datasetVersion"
    },
    {
     "datasetId": 3200885,
     "sourceId": 5557559,
     "sourceType": "datasetVersion"
    },
    {
     "datasetId": 3909429,
     "sourceId": 6795333,
     "sourceType": "datasetVersion"
    }
   ],
   "dockerImageVersionId": 30559,
   "isGpuEnabled": true,
   "isInternetEnabled": true,
   "language": "python",
   "sourceType": "notebook"
  },
  "kernelspec": {
   "display_name": "Python 3",
   "language": "python",
   "name": "python3"
  },
  "language_info": {
   "codemirror_mode": {
    "name": "ipython",
    "version": 3
   },
   "file_extension": ".py",
   "mimetype": "text/x-python",
   "name": "python",
   "nbconvert_exporter": "python",
   "pygments_lexer": "ipython3",
   "version": "3.10.12"
  }
 },
 "nbformat": 4,
 "nbformat_minor": 4
}
